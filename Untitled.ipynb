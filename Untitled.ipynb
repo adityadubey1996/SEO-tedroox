{
 "cells": [
  {
   "cell_type": "code",
   "execution_count": null,
   "metadata": {},
   "outputs": [],
   "source": [
    "\n",
    "from selenium import webdriver\n",
    "from shutil import which\n",
    "from selenium.webdriver.support.ui import WebDriverWait\n",
    "from selenium.webdriver.support import expected_conditions as EC\n",
    "from selenium.webdriver.common.by import By\n",
    "\n",
    "\n",
    "    \n",
    "driver = webdriver.Chrome(r'C:\\Users\\user\\Downloads\\aditya\\web-scrapper\\SEO\\SEO\\spiders\\chromedriver.exe')\n",
    "driver.get(\"https://moz.com/domain-analysis?site=google.com\")\n",
    "WebDriverWait(driver, 10000).until(\n",
    "            EC.visibility_of_element_located((By.XPATH, \"//*[@id='wrap']/main/div[2]/div/div/div/div/div/div[1]/h1\"))\n",
    "        )\n",
    "first = driver.find_element_by_xpath('//*[@id=\"wrap\"]/main/div[2]/div/div/div/div/div/div[1]/h1')\n",
    "text1 = first.text\n",
    "\n",
    "\n",
    "second = driver.find_element_by_xpath('//*[@id=\"wrap\"]/main/div[2]/div/div/div/div/div/div[*]/h1')\n",
    "second1 = second.text\n",
    "print(second1)\n",
    "print('done')\n",
    "print(text1)\n",
    "\n",
    "\n",
    "\n",
    "\n",
    "    \n"
   ]
  }
 ],
 "metadata": {
  "kernelspec": {
   "display_name": "Python 3",
   "language": "python",
   "name": "python3"
  },
  "language_info": {
   "codemirror_mode": {
    "name": "ipython",
    "version": 3
   },
   "file_extension": ".py",
   "mimetype": "text/x-python",
   "name": "python",
   "nbconvert_exporter": "python",
   "pygments_lexer": "ipython3",
   "version": "3.8.1"
  }
 },
 "nbformat": 4,
 "nbformat_minor": 4
}
